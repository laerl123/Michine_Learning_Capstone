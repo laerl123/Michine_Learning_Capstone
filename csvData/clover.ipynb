{
 "cells": [
  {
   "cell_type": "code",
   "execution_count": 1,
   "metadata": {},
   "outputs": [],
   "source": [
    "import pandas as pd\n",
    "import numpy as np\n",
    "from sklearn.linear_model import LinearRegression"
   ]
  },
  {
   "cell_type": "code",
   "execution_count": 2,
   "metadata": {},
   "outputs": [],
   "source": [
    "t1_1 = pd.read_csv(\"t1_1.csv\")\n",
    "t1_2 = pd.read_csv(\"t1_2.csv\")\n",
    "t10_1 = pd.read_csv(\"t10_1.csv\")\n",
    "t10_2 = pd.read_csv(\"t10_2.csv\")\n",
    "t11_1 = pd.read_csv(\"t11_1.csv\")\n",
    "t11_2 = pd.read_csv(\"t11_2.csv\")\n",
    "t12_1 = pd.read_csv(\"t12_1.csv\")\n",
    "t12_2 = pd.read_csv(\"t12_2.csv\")"
   ]
  },
  {
   "cell_type": "code",
   "execution_count": 3,
   "metadata": {},
   "outputs": [],
   "source": [
    "x1 = pd.DataFrame()\n",
    "x1 = t10_1[['교통량']] - t1_1[['교통량']]"
   ]
  },
  {
   "cell_type": "code",
   "execution_count": 4,
   "metadata": {},
   "outputs": [],
   "source": [
    "x2 = pd.DataFrame()\n",
    "x2 = t12_1[['교통량']] - t11_1[['교통량']]"
   ]
  },
  {
   "cell_type": "code",
   "execution_count": 5,
   "metadata": {},
   "outputs": [],
   "source": [
    "x3 = pd.DataFrame()\n",
    "x3 = t1_2[['교통량']] - t10_2[['교통량']]"
   ]
  },
  {
   "cell_type": "code",
   "execution_count": 6,
   "metadata": {},
   "outputs": [],
   "source": [
    "x4 = pd.DataFrame()\n",
    "x4 = t11_2[['교통량']] - t12_2[['교통량']]"
   ]
  },
  {
   "cell_type": "code",
   "execution_count": 7,
   "metadata": {},
   "outputs": [],
   "source": [
    "y1 = x1.mean()\n",
    "y2 = x2.mean()\n",
    "y3 = x3.mean()\n",
    "y4 = x4.mean()"
   ]
  },
  {
   "cell_type": "code",
   "execution_count": 8,
   "metadata": {},
   "outputs": [
    {
     "name": "stdout",
     "output_type": "stream",
     "text": [
      "교통량   -14.581989\n",
      "dtype: float64 교통량    38.643817\n",
      "dtype: float64 교통량    0.25\n",
      "dtype: float64 교통량   -37.497312\n",
      "dtype: float64\n"
     ]
    }
   ],
   "source": [
    "print(y1, y2, y3, y4)"
   ]
  },
  {
   "cell_type": "code",
   "execution_count": 37,
   "metadata": {},
   "outputs": [
    {
     "name": "stdout",
     "output_type": "stream",
     "text": [
      "교통량   -28.994555\n",
      "날짜           NaN\n",
      "dtype: float64\n"
     ]
    }
   ],
   "source": [
    "#t1 to t10\n",
    "\n",
    "z1 = t1_1 - 0.01 * ((x2 * y2) + (x3 * y3) + (x4 * y4))\n",
    "\n",
    "print(z1.mean() - t1_1.mean())"
   ]
  },
  {
   "cell_type": "code",
   "execution_count": 40,
   "metadata": {},
   "outputs": [
    {
     "name": "stdout",
     "output_type": "stream",
     "text": [
      "교통량    16.187453\n",
      "날짜           NaN\n",
      "dtype: float64\n"
     ]
    }
   ],
   "source": [
    "#t11 to t12\n",
    "\n",
    "z2 = t11_1 + 0.01 * ((y1 * x1) + (x3 * y3) + (x4 * y4))\n",
    "\n",
    "print(z2.mean() - t11_1.mean())"
   ]
  },
  {
   "cell_type": "code",
   "execution_count": 42,
   "metadata": {},
   "outputs": [
    {
     "name": "stdout",
     "output_type": "stream",
     "text": [
      "교통량    31.120274\n",
      "날짜           NaN\n",
      "dtype: float64\n"
     ]
    }
   ],
   "source": [
    "#t10_2 to t1_2\n",
    "\n",
    "z3 = t10_2 + 0.01 * ((y1 * x1) + (x2 * y2) + (x4 * y4))\n",
    "\n",
    "print(z3.mean() - t10_2.mean())"
   ]
  },
  {
   "cell_type": "code",
   "execution_count": 44,
   "metadata": {},
   "outputs": [
    {
     "name": "stdout",
     "output_type": "stream",
     "text": [
      "교통량   -17.060415\n",
      "날짜           NaN\n",
      "dtype: float64\n"
     ]
    }
   ],
   "source": [
    "#t12_2 to t11_2\n",
    "\n",
    "z4 = t12_2 - 0.01 * ((y1 * x1) + (x2 * y2) + (x3 * y3))\n",
    "\n",
    "print(z4.mean() - t12_2.mean())"
   ]
  }
 ],
 "metadata": {
  "kernelspec": {
   "display_name": "Python 3",
   "language": "python",
   "name": "python3"
  },
  "language_info": {
   "codemirror_mode": {
    "name": "ipython",
    "version": 3
   },
   "file_extension": ".py",
   "mimetype": "text/x-python",
   "name": "python",
   "nbconvert_exporter": "python",
   "pygments_lexer": "ipython3",
   "version": "3.7.4"
  }
 },
 "nbformat": 4,
 "nbformat_minor": 2
}
