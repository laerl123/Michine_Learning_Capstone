{
 "cells": [
  {
   "cell_type": "code",
   "execution_count": 1,
   "metadata": {},
   "outputs": [],
   "source": [
    "import pandas as pd\n",
    "import numpy as np\n",
    "from sklearn.linear_model import LinearRegression"
   ]
  },
  {
   "cell_type": "code",
   "execution_count": 2,
   "metadata": {},
   "outputs": [],
   "source": [
    "x1 = pd.read_csv(\"t1_1.csv\")\n",
    "y1 = pd.read_csv(\"t10_1.csv\")\n",
    "x2 = pd.read_csv(\"t11_1.csv\")\n",
    "y2 = pd.read_csv(\"t12_1.csv\")\n",
    "x3 = pd.read_csv(\"t10_2.csv\")\n",
    "y3 = pd.read_csv(\"t1_2.csv\")\n",
    "x4 = pd.read_csv(\"t12_2.csv\")\n",
    "y4 = pd.read_csv(\"t11_2.csv\")"
   ]
  },
  {
   "cell_type": "code",
   "execution_count": 4,
   "metadata": {},
   "outputs": [],
   "source": [
    "# x1, x2, x4 -> y1\n",
    "\n",
    "df1 = pd.DataFrame()\n",
    "df1 = pd.concat([x1, x2], axis=1)\n",
    "df1 = pd.concat([df1, x4], axis=1)"
   ]
  },
  {
   "cell_type": "code",
   "execution_count": 5,
   "metadata": {},
   "outputs": [],
   "source": [
    "X_1 = df1[['교통량']]\n",
    "y_1 = y1[['교통량']]"
   ]
  },
  {
   "cell_type": "code",
   "execution_count": 7,
   "metadata": {},
   "outputs": [],
   "source": [
    "model1 = LinearRegression()\n",
    "model1.fit(X_1, y_1)\n",
    "y_predict1 = model1.predict(X_1)"
   ]
  },
  {
   "cell_type": "code",
   "execution_count": 10,
   "metadata": {},
   "outputs": [
    {
     "name": "stdout",
     "output_type": "stream",
     "text": [
      "[-7.02779083]\n",
      "[[ 0.95959409 -0.08318616  0.09869829]]\n"
     ]
    }
   ],
   "source": [
    "print(model1.intercept_)\n",
    "print(model1.coef_)"
   ]
  },
  {
   "cell_type": "code",
   "execution_count": 12,
   "metadata": {},
   "outputs": [],
   "source": [
    "# x1 ,x2, x3 -> y2\n",
    "\n",
    "df2 = pd.DataFrame()\n",
    "df2 = pd.concat([x1, x2], axis=1)\n",
    "df2 = pd.concat([df2, x3], axis=1)"
   ]
  },
  {
   "cell_type": "code",
   "execution_count": 13,
   "metadata": {},
   "outputs": [],
   "source": [
    "X_2 = df2[['교통량']]\n",
    "y_2 = y2[['교통량']]"
   ]
  },
  {
   "cell_type": "code",
   "execution_count": 18,
   "metadata": {},
   "outputs": [],
   "source": [
    "model2 = LinearRegression()\n",
    "model2.fit(X_2, y_2)\n",
    "y_predict2 = model2.predict(X_2)"
   ]
  },
  {
   "cell_type": "code",
   "execution_count": 19,
   "metadata": {},
   "outputs": [
    {
     "name": "stdout",
     "output_type": "stream",
     "text": [
      "[-3.82377065]\n",
      "[[-0.04256747  1.21157353  0.02618937]]\n"
     ]
    }
   ],
   "source": [
    "print(model2.intercept_)\n",
    "print(model2.coef_)"
   ]
  },
  {
   "cell_type": "code",
   "execution_count": 20,
   "metadata": {},
   "outputs": [],
   "source": [
    "# x2, x3, x4 -> y3\n",
    "\n",
    "df3 = pd.DataFrame()\n",
    "df3 = pd.concat([x2, x3], axis=1)\n",
    "df3 = pd.concat([df3, x4], axis=1)"
   ]
  },
  {
   "cell_type": "code",
   "execution_count": 21,
   "metadata": {},
   "outputs": [],
   "source": [
    "X_3 = df3[['교통량']]\n",
    "y_3 = y3[['교통량']]"
   ]
  },
  {
   "cell_type": "code",
   "execution_count": 22,
   "metadata": {},
   "outputs": [],
   "source": [
    "model3 = LinearRegression()\n",
    "model3.fit(X_3, y_3)\n",
    "y_predict3 = model3.predict(X_3)"
   ]
  },
  {
   "cell_type": "code",
   "execution_count": 23,
   "metadata": {},
   "outputs": [
    {
     "name": "stdout",
     "output_type": "stream",
     "text": [
      "[5.76814521]\n",
      "[[0.00457993 0.93971664 0.06642866]]\n"
     ]
    }
   ],
   "source": [
    "print(model3.intercept_)\n",
    "print(model3.coef_)"
   ]
  },
  {
   "cell_type": "code",
   "execution_count": 24,
   "metadata": {},
   "outputs": [],
   "source": [
    "# x1, x3, x4 -> y4\n",
    "\n",
    "df4 = pd.DataFrame()\n",
    "df4 = pd.concat([x1, x3], axis=1)\n",
    "df4 = pd.concat([df4, x4], axis=1)"
   ]
  },
  {
   "cell_type": "code",
   "execution_count": 25,
   "metadata": {},
   "outputs": [],
   "source": [
    "X_4 = df4[['교통량']]\n",
    "y_4 = y4[['교통량']]"
   ]
  },
  {
   "cell_type": "code",
   "execution_count": 26,
   "metadata": {},
   "outputs": [],
   "source": [
    "model4 = LinearRegression()\n",
    "model4.fit(X_4, y_4)\n",
    "y_predict4 = model4.predict(X_4)"
   ]
  },
  {
   "cell_type": "code",
   "execution_count": 27,
   "metadata": {},
   "outputs": [
    {
     "name": "stdout",
     "output_type": "stream",
     "text": [
      "[-7.36914033]\n",
      "[[0.05661243 0.10563992 0.65268117]]\n"
     ]
    }
   ],
   "source": [
    "print(model4.intercept_)\n",
    "print(model4.coef_)"
   ]
  }
 ],
 "metadata": {
  "kernelspec": {
   "display_name": "Python 3",
   "language": "python",
   "name": "python3"
  },
  "language_info": {
   "codemirror_mode": {
    "name": "ipython",
    "version": 3
   },
   "file_extension": ".py",
   "mimetype": "text/x-python",
   "name": "python",
   "nbconvert_exporter": "python",
   "pygments_lexer": "ipython3",
   "version": "3.7.4"
  }
 },
 "nbformat": 4,
 "nbformat_minor": 2
}
