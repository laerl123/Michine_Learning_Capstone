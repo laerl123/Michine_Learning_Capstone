{
 "cells": [
  {
   "cell_type": "code",
   "execution_count": 26,
   "metadata": {},
   "outputs": [],
   "source": [
    "import pandas as pd\n",
    "import numpy as np\n",
    "from sklearn.linear_model import LinearRegression"
   ]
  },
  {
   "cell_type": "code",
   "execution_count": 27,
   "metadata": {},
   "outputs": [],
   "source": [
    "x1 = pd.read_csv(\"t1_1.csv\")\n",
    "y1 = pd.read_csv(\"t10_1.csv\")\n",
    "x2 = pd.read_csv(\"t11_1.csv\")\n",
    "y2 = pd.read_csv(\"t12_1.csv\")\n",
    "x3 = pd.read_csv(\"t10_2.csv\")\n",
    "y3 = pd.read_csv(\"t1_2.csv\")\n",
    "x4 = pd.read_csv(\"t12_2.csv\")\n",
    "y4 = pd.read_csv(\"t11_2.csv\")"
   ]
  },
  {
   "cell_type": "code",
   "execution_count": 28,
   "metadata": {},
   "outputs": [],
   "source": [
    "# x1 -> y1, y2, y4\n",
    "\n",
    "df1 = pd.DataFrame()\n",
    "df1 = pd.concat([y1, y2], axis=1)\n",
    "df1 = pd.concat([df1, y4], axis=1)"
   ]
  },
  {
   "cell_type": "code",
   "execution_count": 29,
   "metadata": {},
   "outputs": [],
   "source": [
    "X_1 = x1[['교통량']]\n",
    "y_1 = df1[['교통량']]"
   ]
  },
  {
   "cell_type": "code",
   "execution_count": 30,
   "metadata": {},
   "outputs": [],
   "source": [
    "model1 = LinearRegression()\n",
    "model1.fit(X_1, y_1)\n",
    "y_predict1 = model1.predict(X_1)"
   ]
  },
  {
   "cell_type": "code",
   "execution_count": 31,
   "metadata": {},
   "outputs": [
    {
     "name": "stdout",
     "output_type": "stream",
     "text": [
      "[ -6.83429156 -23.56641728 -15.1183534 ]\n",
      "[[0.98022624]\n",
      " [0.74164842]\n",
      " [0.64819649]]\n"
     ]
    }
   ],
   "source": [
    "print(model1.intercept_)\n",
    "print(model1.coef_)"
   ]
  },
  {
   "cell_type": "code",
   "execution_count": 32,
   "metadata": {},
   "outputs": [],
   "source": [
    "# x2 -> y1, y2, y3\n",
    "\n",
    "df2 = pd.DataFrame()\n",
    "df2 = pd.concat([y1, y2], axis=1)\n",
    "df2 = pd.concat([df2, y3], axis=1)"
   ]
  },
  {
   "cell_type": "code",
   "execution_count": 33,
   "metadata": {},
   "outputs": [],
   "source": [
    "X_2 = x2[['교통량']]\n",
    "y_2 = df2[['교통량']]"
   ]
  },
  {
   "cell_type": "code",
   "execution_count": 34,
   "metadata": {},
   "outputs": [],
   "source": [
    "model2 = LinearRegression()\n",
    "model2.fit(X_2, y_2)\n",
    "y_predict2 = model2.predict(X_2)"
   ]
  },
  {
   "cell_type": "code",
   "execution_count": 35,
   "metadata": {},
   "outputs": [
    {
     "name": "stdout",
     "output_type": "stream",
     "text": [
      "[48.56495109 -5.29061871 40.3542097 ]\n",
      "[[1.43913531]\n",
      " [1.19237395]\n",
      " [1.63459064]]\n"
     ]
    }
   ],
   "source": [
    "print(model2.intercept_)\n",
    "print(model2.coef_)"
   ]
  },
  {
   "cell_type": "code",
   "execution_count": 36,
   "metadata": {},
   "outputs": [],
   "source": [
    "# x3 -> y2, y3, y4\n",
    "\n",
    "df3 = pd.DataFrame()\n",
    "df3 = pd.concat([y2, y3], axis=1)\n",
    "df3 = pd.concat([df3, y4], axis=1)"
   ]
  },
  {
   "cell_type": "code",
   "execution_count": 37,
   "metadata": {},
   "outputs": [],
   "source": [
    "X_3 = x3[['교통량']]\n",
    "y_3 = df3[['교통량']]"
   ]
  },
  {
   "cell_type": "code",
   "execution_count": 38,
   "metadata": {},
   "outputs": [],
   "source": [
    "model3 = LinearRegression()\n",
    "model3.fit(X_3, y_3)\n",
    "y_predict3 = model3.predict(X_3)"
   ]
  },
  {
   "cell_type": "code",
   "execution_count": 39,
   "metadata": {},
   "outputs": [
    {
     "name": "stdout",
     "output_type": "stream",
     "text": [
      "[-2.26672735  6.80616826  5.70455071]\n",
      "[[0.65138532]\n",
      " [0.98414135]\n",
      " [0.56396833]]\n"
     ]
    }
   ],
   "source": [
    "print(model3.intercept_)\n",
    "print(model3.coef_)"
   ]
  },
  {
   "cell_type": "code",
   "execution_count": 40,
   "metadata": {},
   "outputs": [],
   "source": [
    "# x4 -> y1, y3, y4\n",
    "\n",
    "df4 = pd.DataFrame()\n",
    "df4 = pd.concat([y1, y3], axis=1)\n",
    "df4 = pd.concat([df4, y4], axis=1)"
   ]
  },
  {
   "cell_type": "code",
   "execution_count": 41,
   "metadata": {},
   "outputs": [],
   "source": [
    "X_4 = x4[['교통량']]\n",
    "y_4 = df4[['교통량']]"
   ]
  },
  {
   "cell_type": "code",
   "execution_count": 42,
   "metadata": {},
   "outputs": [],
   "source": [
    "model4 = LinearRegression()\n",
    "model4.fit(X_4, y_4)\n",
    "y_predict4 = model4.predict(X_4)"
   ]
  },
  {
   "cell_type": "code",
   "execution_count": 43,
   "metadata": {},
   "outputs": [
    {
     "name": "stdout",
     "output_type": "stream",
     "text": [
      "[60.53467082 61.12700149  2.90917467]\n",
      "[[1.14599797]\n",
      " [1.27566917]\n",
      " [0.85378695]]\n"
     ]
    }
   ],
   "source": [
    "print(model4.intercept_)\n",
    "print(model4.coef_)"
   ]
  }
 ],
 "metadata": {
  "kernelspec": {
   "display_name": "Python 3",
   "language": "python",
   "name": "python3"
  },
  "language_info": {
   "codemirror_mode": {
    "name": "ipython",
    "version": 3
   },
   "file_extension": ".py",
   "mimetype": "text/x-python",
   "name": "python",
   "nbconvert_exporter": "python",
   "pygments_lexer": "ipython3",
   "version": "3.7.4"
  }
 },
 "nbformat": 4,
 "nbformat_minor": 2
}
